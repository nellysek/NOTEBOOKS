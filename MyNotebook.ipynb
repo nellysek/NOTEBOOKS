{
 "cells": [
  {
   "cell_type": "code",
   "execution_count": 4,
   "metadata": {
    "collapsed": false
   },
   "outputs": [
    {
     "data": {
      "text/plain": [
       "10L"
      ]
     },
     "execution_count": 4,
     "metadata": {},
     "output_type": "execute_result"
    }
   ],
   "source": [
    "import MySQLdb\n",
    "\n",
    "db = MySQLdb.connect(user = \"root\",\n",
    "                     passwd = \"1484\",\n",
    "                     host = \"localhost\",\n",
    "                     port = 3306,\n",
    "                     use_unicode = True)\n",
    "cursor = db.cursor()\n",
    "cursor.execute(\"SELECT * FROM openstack_reviews.issues LIMIT 10\")\n"
   ]
  },
  {
   "cell_type": "code",
   "execution_count": 5,
   "metadata": {
    "collapsed": false
   },
   "outputs": [
    {
     "data": {
      "text/plain": [
       "((1L,\n",
       "  1L,\n",
       "  u'148509',\n",
       "  u'review',\n",
       "  u'Consolidate the APIs for getting consoles',\n",
       "  u'',\n",
       "  u'MERGED',\n",
       "  u'None',\n",
       "  u'None',\n",
       "  1L,\n",
       "  datetime.datetime(2015, 1, 20, 12, 54, 22),\n",
       "  0L),\n",
       " (2L,\n",
       "  1L,\n",
       "  u'170089',\n",
       "  u'review',\n",
       "  u'Support both list and dict for pci_passthrough_whitelist',\n",
       "  u'',\n",
       "  u'MERGED',\n",
       "  u'None',\n",
       "  u'None',\n",
       "  20L,\n",
       "  datetime.datetime(2015, 4, 2, 13, 41, 34),\n",
       "  0L),\n",
       " (3L,\n",
       "  1L,\n",
       "  u'175780',\n",
       "  u'review',\n",
       "  u'libvirt: make live_migration_uri flag dependent on virt_type',\n",
       "  u'',\n",
       "  u'NEW',\n",
       "  u'None',\n",
       "  u'None',\n",
       "  29L,\n",
       "  datetime.datetime(2015, 4, 21, 11, 5, 11),\n",
       "  0L),\n",
       " (4L,\n",
       "  1L,\n",
       "  u'165060',\n",
       "  u'review',\n",
       "  u'VMware: add in folder support on VC',\n",
       "  u'',\n",
       "  u'NEW',\n",
       "  u'None',\n",
       "  u'None',\n",
       "  30L,\n",
       "  datetime.datetime(2015, 3, 17, 14, 7, 30),\n",
       "  0L),\n",
       " (5L,\n",
       "  1L,\n",
       "  u'174064',\n",
       "  u'review',\n",
       "  u'Add min/max of API microversions to version API',\n",
       "  u'',\n",
       "  u'MERGED',\n",
       "  u'None',\n",
       "  u'None',\n",
       "  33L,\n",
       "  datetime.datetime(2015, 4, 15, 21, 56, 40),\n",
       "  0L),\n",
       " (6L,\n",
       "  1L,\n",
       "  u'175786',\n",
       "  u'review',\n",
       "  u'Use list of requests in InstancePCIRequests.obj_from_db.',\n",
       "  u'',\n",
       "  u'MERGED',\n",
       "  u'None',\n",
       "  u'None',\n",
       "  18L,\n",
       "  datetime.datetime(2015, 4, 21, 11, 32, 42),\n",
       "  0L),\n",
       " (7L,\n",
       "  1L,\n",
       "  u'173304',\n",
       "  u'review',\n",
       "  u'scheduler: weight nodes based on their cached images',\n",
       "  u'',\n",
       "  u'NEW',\n",
       "  u'None',\n",
       "  u'None',\n",
       "  29L,\n",
       "  datetime.datetime(2015, 4, 14, 15, 12, 10),\n",
       "  0L),\n",
       " (8L,\n",
       "  1L,\n",
       "  u'175789',\n",
       "  u'review',\n",
       "  u'Fix handling of pci_requests in consume_from_instance.',\n",
       "  u'',\n",
       "  u'MERGED',\n",
       "  u'None',\n",
       "  u'None',\n",
       "  26L,\n",
       "  datetime.datetime(2015, 4, 21, 11, 50, 59),\n",
       "  0L),\n",
       " (9L,\n",
       "  1L,\n",
       "  u'174605',\n",
       "  u'review',\n",
       "  u'Use kwargs from compute v4 proxy change_instance_metadata',\n",
       "  u'',\n",
       "  u'MERGED',\n",
       "  u'None',\n",
       "  u'None',\n",
       "  31L,\n",
       "  datetime.datetime(2015, 4, 16, 23, 13, 3),\n",
       "  0L),\n",
       " (10L,\n",
       "  1L,\n",
       "  u'174477',\n",
       "  u'review',\n",
       "  u'compute: stop handling virt lifecycle events in cleanup_host()',\n",
       "  u'',\n",
       "  u'MERGED',\n",
       "  u'None',\n",
       "  u'None',\n",
       "  31L,\n",
       "  datetime.datetime(2015, 4, 16, 19, 32, 53),\n",
       "  0L))"
      ]
     },
     "execution_count": 5,
     "metadata": {},
     "output_type": "execute_result"
    }
   ],
   "source": [
    "cursor.fetchall()"
   ]
  },
  {
   "cell_type": "code",
   "execution_count": 6,
   "metadata": {
    "collapsed": false
   },
   "outputs": [
    {
     "data": {
      "text/plain": [
       "10L"
      ]
     },
     "execution_count": 6,
     "metadata": {},
     "output_type": "execute_result"
    }
   ],
   "source": [
    "cursor.execute(\"SELECT * FROM openstack_reviews.changes LIMIT 10\")"
   ]
  },
  {
   "cell_type": "code",
   "execution_count": 7,
   "metadata": {
    "collapsed": false
   },
   "outputs": [
    {
     "data": {
      "text/plain": [
       "((1L,\n",
       "  1L,\n",
       "  u'Upload',\n",
       "  u'1',\n",
       "  u'',\n",
       "  1L,\n",
       "  datetime.datetime(2015, 1, 20, 12, 54, 22)),\n",
       " (2L,\n",
       "  1L,\n",
       "  u'Workflow',\n",
       "  u'1',\n",
       "  u'-1',\n",
       "  1L,\n",
       "  datetime.datetime(2015, 1, 20, 12, 55, 30)),\n",
       " (3L,\n",
       "  1L,\n",
       "  u'Verified',\n",
       "  u'1',\n",
       "  u'1',\n",
       "  4L,\n",
       "  datetime.datetime(2015, 1, 20, 13, 46, 10)),\n",
       " (4L,\n",
       "  1L,\n",
       "  u'Verified',\n",
       "  u'1',\n",
       "  u'1',\n",
       "  5L,\n",
       "  datetime.datetime(2015, 1, 20, 13, 56, 5)),\n",
       " (5L,\n",
       "  1L,\n",
       "  u'Verified',\n",
       "  u'1',\n",
       "  u'1',\n",
       "  6L,\n",
       "  datetime.datetime(2015, 1, 20, 14, 5, 16)),\n",
       " (6L,\n",
       "  1L,\n",
       "  u'Upload',\n",
       "  u'2',\n",
       "  u'',\n",
       "  1L,\n",
       "  datetime.datetime(2015, 1, 20, 16, 56, 52)),\n",
       " (7L,\n",
       "  1L,\n",
       "  u'Verified',\n",
       "  u'2',\n",
       "  u'1',\n",
       "  4L,\n",
       "  datetime.datetime(2015, 1, 20, 17, 49, 42)),\n",
       " (8L,\n",
       "  1L,\n",
       "  u'Verified',\n",
       "  u'2',\n",
       "  u'-1',\n",
       "  5L,\n",
       "  datetime.datetime(2015, 1, 20, 18, 21, 12)),\n",
       " (9L,\n",
       "  1L,\n",
       "  u'Upload',\n",
       "  u'3',\n",
       "  u'',\n",
       "  1L,\n",
       "  datetime.datetime(2015, 1, 20, 18, 34, 11)),\n",
       " (10L,\n",
       "  1L,\n",
       "  u'Verified',\n",
       "  u'3',\n",
       "  u'1',\n",
       "  4L,\n",
       "  datetime.datetime(2015, 1, 20, 19, 25, 49)))"
      ]
     },
     "execution_count": 7,
     "metadata": {},
     "output_type": "execute_result"
    }
   ],
   "source": [
    "cursor.fetchall()"
   ]
  }
 ],
 "metadata": {
  "kernelspec": {
   "display_name": "Python 2",
   "language": "python",
   "name": "python2"
  },
  "language_info": {
   "codemirror_mode": {
    "name": "ipython",
    "version": 2
   },
   "file_extension": ".py",
   "mimetype": "text/x-python",
   "name": "python",
   "nbconvert_exporter": "python",
   "pygments_lexer": "ipython2",
   "version": "2.7.6"
  }
 },
 "nbformat": 4,
 "nbformat_minor": 0
}
